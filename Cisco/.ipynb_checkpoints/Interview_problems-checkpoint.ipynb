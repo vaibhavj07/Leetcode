{
 "cells": [
  {
   "cell_type": "markdown",
   "id": "8fb53bbb",
   "metadata": {},
   "source": [
    "# Maximum Difference Between Increasing Elements"
   ]
  },
  {
   "cell_type": "code",
   "execution_count": null,
   "id": "34c86e14",
   "metadata": {},
   "outputs": [],
   "source": [
    "class Solution(object):\n",
    "    def maximumDifference(self, nums):\n",
    "        \"\"\"\n",
    "        :type nums: List[int]\n",
    "        :rtype: int\n",
    "        \"\"\"\n",
    "        max_diff = -1\n",
    "        for i in range(len(nums)):\n",
    "            for j in range(i+1, len(nums)):\n",
    "                if (nums[j] - nums[i] > max_diff):\n",
    "                    if nums[j] - nums[i] > 0:\n",
    "                        max_diff = nums[j] - nums[i]\n",
    "        return max_diff"
   ]
  },
  {
   "cell_type": "markdown",
   "id": "ddb45f8f",
   "metadata": {},
   "source": [
    "# 1854. Maximum Population Year"
   ]
  },
  {
   "cell_type": "code",
   "execution_count": 3,
   "id": "5697dc9e",
   "metadata": {},
   "outputs": [],
   "source": [
    "class Solution(object):\n",
    "    def maximumPopulation(self, logs):\n",
    "        \"\"\"\n",
    "        :type logs: List[List[int]]\n",
    "        :rtype: int\n",
    "        \"\"\"\n",
    "        count = [0]*2055\n",
    "\n",
    "        for s,e in logs:\n",
    "            for c in range(s,e):\n",
    "                count[c]+=1\n",
    "        m = max(count)\n",
    "        for i in range(len(count)):\n",
    "            if count[i] == m:\n",
    "                return i\n",
    "        return -1"
   ]
  },
  {
   "cell_type": "markdown",
   "id": "e51fdb2c",
   "metadata": {},
   "source": [
    "# 1784. Check if Binary String Has at Most One Segment of Ones"
   ]
  },
  {
   "cell_type": "code",
   "execution_count": 5,
   "id": "e044f936",
   "metadata": {},
   "outputs": [],
   "source": [
    "def solve(s):  ## Faster\n",
    "   count = -1\n",
    "   if len(s)==1:\n",
    "      return True\n",
    "   for i in s:\n",
    "         if i==\"1\" and count>-1:\n",
    "            return False\n",
    "         elif i==\"0\":\n",
    "            count+=1\n",
    "   return True\n",
    "### ----------------------------------------\n",
    "class Solution:\n",
    "    def checkOnesSegment(self, s: str) -> bool:\n",
    "        count = 0\n",
    "        for x,t in groupby(s):\n",
    "            print(*x,*t)\n",
    "            if x =='1':\n",
    "                count+=1\n",
    "        print(count)\n",
    "        return count == 1"
   ]
  },
  {
   "cell_type": "markdown",
   "id": "39b7a3ea",
   "metadata": {},
   "source": [
    " # Expressive Words"
   ]
  },
  {
   "cell_type": "code",
   "execution_count": 2,
   "id": "3fdfef30",
   "metadata": {},
   "outputs": [],
   "source": [
    "from itertools import groupby\n",
    "class Solution:\n",
    "    def expressiveWords(self, s, words):\n",
    "\n",
    "        f = lambda x: (tuple(zip(*[(k, len(tuple(g)))\n",
    "                       for k,g in groupby(x)])))\n",
    "       \n",
    "        (sCh, sCt), ans = f(s), 0\n",
    "\n",
    "        for word in words:\n",
    "            wCh, wCt = f(word)\n",
    "\n",
    "            if sCh == wCh:\n",
    "                for sc, wc in zip(sCt, wCt):\n",
    "                    \n",
    "                    if sc < wc or (sc < 3 and sc != wc): break\n",
    "\n",
    "                else: ans+= 1 \n",
    "\n",
    "        return ans\n",
    "            "
   ]
  },
  {
   "cell_type": "markdown",
   "id": "9c4b72da",
   "metadata": {},
   "source": [
    "# Maximum Subarray"
   ]
  },
  {
   "cell_type": "code",
   "execution_count": 5,
   "id": "4f5a8304",
   "metadata": {},
   "outputs": [],
   "source": [
    "class Solution:\n",
    "    def maxSubArray(self, nums):\n",
    "        ans = -inf\n",
    "        for i in range(len(nums)):\n",
    "            cur_sum = 0\n",
    "            for j in range(i, len(nums)):\n",
    "                cur_sum += nums[j]\n",
    "                ans = max(ans, cur_sum)\n",
    "        return ans\n"
   ]
  },
  {
   "cell_type": "markdown",
   "id": "bdfe917e",
   "metadata": {},
   "source": [
    "https://leetcode.com/problems/maximum-subarray/solutions/1595195/c-python-7-simple-solutions-w-explanation-brute-force-dp-kadane-divide-conquer/"
   ]
  },
  {
   "cell_type": "code",
   "execution_count": 6,
   "id": "cd0e77e3",
   "metadata": {},
   "outputs": [],
   "source": [
    "# Matrix Rotation"
   ]
  },
  {
   "cell_type": "code",
   "execution_count": 7,
   "id": "f4246bac",
   "metadata": {},
   "outputs": [
    {
     "ename": "NameError",
     "evalue": "name 'matrix' is not defined",
     "output_type": "error",
     "traceback": [
      "\u001b[1;31m---------------------------------------------------------------------------\u001b[0m",
      "\u001b[1;31mNameError\u001b[0m                                 Traceback (most recent call last)",
      "\u001b[1;32m~\\AppData\\Local\\Temp\\ipykernel_4220\\2668253970.py\u001b[0m in \u001b[0;36m<module>\u001b[1;34m\u001b[0m\n\u001b[0;32m      1\u001b[0m \u001b[1;31m# reverse\u001b[0m\u001b[1;33m\u001b[0m\u001b[1;33m\u001b[0m\u001b[1;33m\u001b[0m\u001b[0m\n\u001b[0;32m      2\u001b[0m \u001b[0ml\u001b[0m \u001b[1;33m=\u001b[0m \u001b[1;36m0\u001b[0m\u001b[1;33m\u001b[0m\u001b[1;33m\u001b[0m\u001b[0m\n\u001b[1;32m----> 3\u001b[1;33m \u001b[0mr\u001b[0m \u001b[1;33m=\u001b[0m \u001b[0mlen\u001b[0m\u001b[1;33m(\u001b[0m\u001b[0mmatrix\u001b[0m\u001b[1;33m)\u001b[0m \u001b[1;33m-\u001b[0m\u001b[1;36m1\u001b[0m\u001b[1;33m\u001b[0m\u001b[1;33m\u001b[0m\u001b[0m\n\u001b[0m\u001b[0;32m      4\u001b[0m \u001b[1;32mwhile\u001b[0m \u001b[0ml\u001b[0m \u001b[1;33m<\u001b[0m \u001b[0mr\u001b[0m\u001b[1;33m:\u001b[0m\u001b[1;33m\u001b[0m\u001b[1;33m\u001b[0m\u001b[0m\n\u001b[0;32m      5\u001b[0m         \u001b[0mmatrix\u001b[0m\u001b[1;33m[\u001b[0m\u001b[0ml\u001b[0m\u001b[1;33m]\u001b[0m\u001b[1;33m,\u001b[0m \u001b[0mmatrix\u001b[0m\u001b[1;33m[\u001b[0m\u001b[0mr\u001b[0m\u001b[1;33m]\u001b[0m \u001b[1;33m=\u001b[0m \u001b[0mmatrix\u001b[0m\u001b[1;33m[\u001b[0m\u001b[0mr\u001b[0m\u001b[1;33m]\u001b[0m\u001b[1;33m,\u001b[0m \u001b[0mmatrix\u001b[0m\u001b[1;33m[\u001b[0m\u001b[0ml\u001b[0m\u001b[1;33m]\u001b[0m\u001b[1;33m\u001b[0m\u001b[1;33m\u001b[0m\u001b[0m\n",
      "\u001b[1;31mNameError\u001b[0m: name 'matrix' is not defined"
     ]
    }
   ],
   "source": [
    "# reverse\n",
    "l = 0\n",
    "r = len(matrix) -1\n",
    "while l < r:\n",
    "\tmatrix[l], matrix[r] = matrix[r], matrix[l]\n",
    "\tl += 1\n",
    "\tr -= 1\n",
    "# transpose \n",
    "for i in range(len(matrix)):\n",
    "\tfor j in range(i):\n",
    "\t\tmatrix[i][j], matrix[j][i] = matrix[j][i], matrix[i][j]\n",
    "\t\t"
   ]
  },
  {
   "cell_type": "code",
   "execution_count": null,
   "id": "283a5d58",
   "metadata": {},
   "outputs": [],
   "source": []
  }
 ],
 "metadata": {
  "kernelspec": {
   "display_name": "Python 3 (ipykernel)",
   "language": "python",
   "name": "python3"
  },
  "language_info": {
   "codemirror_mode": {
    "name": "ipython",
    "version": 3
   },
   "file_extension": ".py",
   "mimetype": "text/x-python",
   "name": "python",
   "nbconvert_exporter": "python",
   "pygments_lexer": "ipython3",
   "version": "3.7.9"
  }
 },
 "nbformat": 4,
 "nbformat_minor": 5
}
