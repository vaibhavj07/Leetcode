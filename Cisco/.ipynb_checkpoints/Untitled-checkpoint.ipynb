{
 "cells": [
  {
   "cell_type": "markdown",
   "id": "8fb53bbb",
   "metadata": {},
   "source": [
    "# Maximum Difference Between Increasing Elements"
   ]
  },
  {
   "cell_type": "code",
   "execution_count": null,
   "id": "34c86e14",
   "metadata": {},
   "outputs": [],
   "source": [
    "class Solution(object):\n",
    "    def maximumDifference(self, nums):\n",
    "        \"\"\"\n",
    "        :type nums: List[int]\n",
    "        :rtype: int\n",
    "        \"\"\"\n",
    "        max_diff = -1\n",
    "        for i in range(len(nums)):\n",
    "            for j in range(i+1, len(nums)):\n",
    "                if (nums[j] - nums[i] > max_diff):\n",
    "                    if nums[j] - nums[i] > 0:\n",
    "                        max_diff = nums[j] - nums[i]\n",
    "        return max_diff"
   ]
  },
  {
   "cell_type": "markdown",
   "id": "ddb45f8f",
   "metadata": {},
   "source": [
    "# 1854. Maximum Population Year"
   ]
  },
  {
   "cell_type": "code",
   "execution_count": 3,
   "id": "5697dc9e",
   "metadata": {},
   "outputs": [],
   "source": [
    "class Solution(object):\n",
    "    def maximumPopulation(self, logs):\n",
    "        \"\"\"\n",
    "        :type logs: List[List[int]]\n",
    "        :rtype: int\n",
    "        \"\"\"\n",
    "        count = [0]*2055\n",
    "\n",
    "        for s,e in logs:\n",
    "            for c in range(s,e):\n",
    "                count[c]+=1\n",
    "        m = max(count)\n",
    "        for i in range(len(count)):\n",
    "            if count[i] == m:\n",
    "                return i\n",
    "        return -1"
   ]
  },
  {
   "cell_type": "markdown",
   "id": "e51fdb2c",
   "metadata": {},
   "source": [
    "# 1784. Check if Binary String Has at Most One Segment of Ones"
   ]
  },
  {
   "cell_type": "code",
   "execution_count": 5,
   "id": "e044f936",
   "metadata": {},
   "outputs": [],
   "source": [
    "def solve(s):  ## Faster\n",
    "   count = -1\n",
    "   if len(s)==1:\n",
    "      return True\n",
    "   for i in s:\n",
    "         if i==\"1\" and count>-1:\n",
    "            return False\n",
    "         elif i==\"0\":\n",
    "            count+=1\n",
    "   return True\n",
    "### ----------------------------------------\n",
    "class Solution:\n",
    "    def checkOnesSegment(self, s: str) -> bool:\n",
    "        count = 0\n",
    "        for x,t in groupby(s):\n",
    "            print(*x,*t)\n",
    "            if x =='1':\n",
    "                count+=1\n",
    "        print(count)\n",
    "        return count == 1"
   ]
  },
  {
   "cell_type": "code",
   "execution_count": null,
   "id": "3fdfef30",
   "metadata": {},
   "outputs": [],
   "source": []
  }
 ],
 "metadata": {
  "kernelspec": {
   "display_name": "Python 3 (ipykernel)",
   "language": "python",
   "name": "python3"
  },
  "language_info": {
   "codemirror_mode": {
    "name": "ipython",
    "version": 3
   },
   "file_extension": ".py",
   "mimetype": "text/x-python",
   "name": "python",
   "nbconvert_exporter": "python",
   "pygments_lexer": "ipython3",
   "version": "3.7.9"
  }
 },
 "nbformat": 4,
 "nbformat_minor": 5
}
